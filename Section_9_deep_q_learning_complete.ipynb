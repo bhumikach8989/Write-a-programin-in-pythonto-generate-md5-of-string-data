{
  "cells": [
    {
      "cell_type": "markdown",
      "metadata": {
        "pycharm": {
          "name": "#%%\n"
        },
        "id": "gsN12V6QmGO4"
      },
      "source": [
        "<div style=\"text-align:center\">\n",
        "    <h1>\n",
        "        Deep Q-Learning\n",
        "    </h1>\n",
        "</div>\n",
        "\n",
        "<br><br>\n",
        "\n",
        "<div style=\"text-align:center\">\n",
        "\n",
        "In this notebook, we extend the Q-Learning algorithm to use function approximators (Neural Networks). The resulting algorithm is known as Deep Q-Learning.\n",
        "</div>\n",
        "\n",
        "\n",
        "\n",
        "<br>"
      ]
    },
    {
      "cell_type": "code",
      "source": [
        "# @title Setup code (not important) - Run this cell by pressing \"Shift + Enter\"\n",
        "\n",
        "\n",
        "\n",
        "!pip install -qq gym==0.23.0\n",
        "\n",
        "\n",
        "from typing import Tuple, Dict, Optional, Iterable, Callable\n",
        "\n",
        "import numpy as np\n",
        "import seaborn as sns\n",
        "import matplotlib\n",
        "import torch\n",
        "from matplotlib import animation\n",
        "import matplotlib.patches as mpatches\n",
        "\n",
        "from IPython.display import HTML\n",
        "\n",
        "import gym\n",
        "from gym import spaces\n",
        "from gym.error import DependencyNotInstalled\n",
        "\n",
        "import pygame\n",
        "from pygame import gfxdraw\n",
        "\n",
        "\n",
        "class Maze(gym.Env):\n",
        "\n",
        "    def __init__(self, exploring_starts: bool = False,\n",
        "                 shaped_rewards: bool = False, size: int = 5) -> None:\n",
        "        super().__init__()\n",
        "        self.exploring_starts = exploring_starts\n",
        "        self.shaped_rewards = shaped_rewards\n",
        "        self.state = (size - 1, size - 1)\n",
        "        self.goal = (size - 1, size - 1)\n",
        "        self.maze = self._create_maze(size=size)\n",
        "        self.distances = self._compute_distances(self.goal, self.maze)\n",
        "        self.action_space = spaces.Discrete(n=4)\n",
        "        self.action_space.action_meanings = {0: 'UP', 1: 'RIGHT', 2: 'DOWN', 3: \"LEFT\"}\n",
        "        self.observation_space = spaces.MultiDiscrete([size, size])\n",
        "\n",
        "        self.screen = None\n",
        "        self.agent_transform = None\n",
        "\n",
        "    def step(self, action: int) -> Tuple[Tuple[int, int], float, bool, Dict]:\n",
        "        reward = self.compute_reward(self.state, action)\n",
        "        self.state = self._get_next_state(self.state, action)\n",
        "        done = self.state == self.goal\n",
        "        info = {}\n",
        "        return self.state, reward, done, info\n",
        "\n",
        "    def reset(self) -> Tuple[int, int]:\n",
        "        if self.exploring_starts:\n",
        "            while self.state == self.goal:\n",
        "                self.state = tuple(self.observation_space.sample())\n",
        "        else:\n",
        "            self.state = (0, 0)\n",
        "        return self.state\n",
        "\n",
        "    def render(self, mode: str = 'human') -> Optional[np.ndarray]:\n",
        "        assert mode in ['human', 'rgb_array']\n",
        "\n",
        "        screen_size = 600\n",
        "        scale = screen_size / 5\n",
        "\n",
        "        if self.screen is None:\n",
        "            pygame.init()\n",
        "            self.screen = pygame.Surface((screen_size, screen_size))\n",
        "\n",
        "        surf = pygame.Surface((screen_size, screen_size))\n",
        "        surf.fill((22, 36, 71))\n",
        "\n",
        "\n",
        "        for row in range(5):\n",
        "            for col in range(5):\n",
        "\n",
        "                state = (row, col)\n",
        "                for next_state in [(row + 1, col), (row - 1, col), (row, col + 1), (row, col - 1)]:\n",
        "                    if next_state not in self.maze[state]:\n",
        "\n",
        "                        # Add the geometry of the edges and walls (i.e. the boundaries between\n",
        "                        # adjacent squares that are not connected).\n",
        "                        row_diff, col_diff = np.subtract(next_state, state)\n",
        "                        left = (col + (col_diff > 0)) * scale - 2 * (col_diff != 0)\n",
        "                        right = ((col + 1) - (col_diff < 0)) * scale + 2 * (col_diff != 0)\n",
        "                        top = (5 - (row + (row_diff > 0))) * scale - 2 * (row_diff != 0)\n",
        "                        bottom = (5 - ((row + 1) - (row_diff < 0))) * scale + 2 * (row_diff != 0)\n",
        "\n",
        "                        gfxdraw.filled_polygon(surf, [(left, bottom), (left, top), (right, top), (right, bottom)], (255, 255, 255))\n",
        "\n",
        "        # Add the geometry of the goal square to the viewer.\n",
        "        left, right, top, bottom = scale * 4 + 10, scale * 5 - 10, scale - 10, 10\n",
        "        gfxdraw.filled_polygon(surf, [(left, bottom), (left, top), (right, top), (right, bottom)], (40, 199, 172))\n",
        "\n",
        "        # Add the geometry of the agent to the viewer.\n",
        "        agent_row = int(screen_size - scale * (self.state[0] + .5))\n",
        "        agent_col = int(scale * (self.state[1] + .5))\n",
        "        gfxdraw.filled_circle(surf, agent_col, agent_row, int(scale * .6 / 2), (228, 63, 90))\n",
        "\n",
        "        surf = pygame.transform.flip(surf, False, True)\n",
        "        self.screen.blit(surf, (0, 0))\n",
        "\n",
        "        return np.transpose(\n",
        "                np.array(pygame.surfarray.pixels3d(self.screen)), axes=(1, 0, 2)\n",
        "            )\n",
        "\n",
        "    def close(self) -> None:\n",
        "        if self.screen is not None:\n",
        "            pygame.display.quit()\n",
        "            pygame.quit()\n",
        "            self.screen = None\n",
        "\n",
        "    def compute_reward(self, state: Tuple[int, int], action: int) -> float:\n",
        "        next_state = self._get_next_state(state, action)\n",
        "        if self.shaped_rewards:\n",
        "            return - (self.distances[next_state] / self.distances.max())\n",
        "        return - float(state != self.goal)\n",
        "\n",
        "    def simulate_step(self, state: Tuple[int, int], action: int):\n",
        "        reward = self.compute_reward(state, action)\n",
        "        next_state = self._get_next_state(state, action)\n",
        "        done = next_state == self.goal\n",
        "        info = {}\n",
        "        return next_state, reward, done, info\n",
        "\n",
        "    def _get_next_state(self, state: Tuple[int, int], action: int) -> Tuple[int, int]:\n",
        "        if action == 0:\n",
        "            next_state = (state[0] - 1, state[1])\n",
        "        elif action == 1:\n",
        "            next_state = (state[0], state[1] + 1)\n",
        "        elif action == 2:\n",
        "            next_state = (state[0] + 1, state[1])\n",
        "        elif action == 3:\n",
        "            next_state = (state[0], state[1] - 1)\n",
        "        else:\n",
        "            raise ValueError(\"Action value not supported:\", action)\n",
        "        if next_state in self.maze[state]:\n",
        "            return next_state\n",
        "        return state\n",
        "\n",
        "    @staticmethod\n",
        "    def _create_maze(size: int) -> Dict[Tuple[int, int], Iterable[Tuple[int, int]]]:\n",
        "        maze = {(row, col): [(row - 1, col), (row + 1, col), (row, col - 1), (row, col + 1)]\n",
        "                for row in range(size) for col in range(size)}\n",
        "\n",
        "        left_edges = [[(row, 0), (row, -1)] for row in range(size)]\n",
        "        right_edges = [[(row, size - 1), (row, size)] for row in range(size)]\n",
        "        upper_edges = [[(0, col), (-1, col)] for col in range(size)]\n",
        "        lower_edges = [[(size - 1, col), (size, col)] for col in range(size)]\n",
        "        walls = [\n",
        "            [(1, 0), (1, 1)], [(2, 0), (2, 1)], [(3, 0), (3, 1)],\n",
        "            [(1, 1), (1, 2)], [(2, 1), (2, 2)], [(3, 1), (3, 2)],\n",
        "            [(3, 1), (4, 1)], [(0, 2), (1, 2)], [(1, 2), (1, 3)],\n",
        "            [(2, 2), (3, 2)], [(2, 3), (3, 3)], [(2, 4), (3, 4)],\n",
        "            [(4, 2), (4, 3)], [(1, 3), (1, 4)], [(2, 3), (2, 4)],\n",
        "        ]\n",
        "\n",
        "        obstacles = upper_edges + lower_edges + left_edges + right_edges + walls\n",
        "\n",
        "        for src, dst in obstacles:\n",
        "            maze[src].remove(dst)\n",
        "\n",
        "            if dst in maze:\n",
        "                maze[dst].remove(src)\n",
        "\n",
        "        return maze\n",
        "\n",
        "    @staticmethod\n",
        "    def _compute_distances(goal: Tuple[int, int],\n",
        "                           maze: Dict[Tuple[int, int], Iterable[Tuple[int, int]]]) -> np.ndarray:\n",
        "        distances = np.full((5, 5), np.inf)\n",
        "        visited = set()\n",
        "        distances[goal] = 0.\n",
        "\n",
        "        while visited != set(maze):\n",
        "            sorted_dst = [(v // 5, v % 5) for v in distances.argsort(axis=None)]\n",
        "            closest = next(x for x in sorted_dst if x not in visited)\n",
        "            visited.add(closest)\n",
        "\n",
        "            for neighbour in maze[closest]:\n",
        "                distances[neighbour] = min(distances[neighbour], distances[closest] + 1)\n",
        "        return distances\n",
        "\n",
        "\n",
        "def display_video(frames):\n",
        "    # Copied from: https://colab.research.google.com/github/deepmind/dm_control/blob/master/tutorial.ipynb\n",
        "    orig_backend = matplotlib.get_backend()\n",
        "    matplotlib.use('Agg')\n",
        "    fig, ax = plt.subplots(1, 1, figsize=(5, 5))\n",
        "    matplotlib.use(orig_backend)\n",
        "    ax.set_axis_off()\n",
        "    ax.set_aspect('equal')\n",
        "    ax.set_position([0, 0, 1, 1])\n",
        "    im = ax.imshow(frames[0])\n",
        "    def update(frame):\n",
        "        im.set_data(frame)\n",
        "        return [im]\n",
        "    anim = animation.FuncAnimation(fig=fig, func=update, frames=frames,\n",
        "                                    interval=50, blit=True, repeat=False)\n",
        "    return HTML(anim.to_html5_video())\n",
        "\n",
        "\n",
        "def test_agent(env, policy, episodes=10):\n",
        "    frames = []\n",
        "    totalreward = 0\n",
        "    for episode in range(episodes):\n",
        "        state = env.reset()\n",
        "        done = False\n",
        "        frames.append(env.render(mode=\"rgb_array\"))\n",
        "\n",
        "        while not done:\n",
        "            p = policy(state)\n",
        "            if isinstance(p, np.ndarray):\n",
        "                action = np.random.choice(4, p=p)\n",
        "            else:\n",
        "                action = p\n",
        "            next_state, reward, done, extra_info = env.step(action)\n",
        "            totalreward += reward\n",
        "            img = env.render(mode=\"rgb_array\")\n",
        "            frames.append(img)\n",
        "            state = next_state\n",
        "    print(\"total rewards are listed\",totalreward)\n",
        "    return display_video(frames)\n",
        "\n",
        "\n",
        "def seed_everything(env: gym.Env, seed: int = 42) -> None:\n",
        "    env.seed(seed)\n",
        "    env.action_space.seed(seed)\n",
        "    env.observation_space.seed(seed)\n",
        "    np.random.seed(seed)\n",
        "    torch.manual_seed(seed)\n",
        "    torch.use_deterministic_algorithms(True)\n",
        "\n",
        "\n",
        "def plot_stats(stats):\n",
        "    rows = len(stats)\n",
        "    cols = 1\n",
        "\n",
        "    fig, ax = plt.subplots(rows, cols, figsize=(12, 6))\n",
        "\n",
        "    for i, key in enumerate(stats):\n",
        "        vals = stats[key]\n",
        "        vals = [np.mean(vals[i-10:i+10]) for i in range(10, len(vals)-10)]\n",
        "        if len(stats) > 1:\n",
        "            ax[i].plot(range(len(vals)), vals)\n",
        "            ax[i].set_title(key, size=18)\n",
        "        else:\n",
        "            ax.plot(range(len(vals)), vals)\n",
        "            ax.set_title(key, size=18)\n",
        "    plt.tight_layout()\n",
        "    plt.show()\n",
        "\n",
        "\n",
        "def plot_cost_to_go(env, q_network, xlabel=None, ylabel=None):\n",
        "    highx, highy = env.observation_space.high\n",
        "    lowx, lowy = env.observation_space.low\n",
        "    X = torch.linspace(lowx, highx, 100)\n",
        "    Y = torch.linspace(lowy, highy, 100)\n",
        "    X, Y = torch.meshgrid(X, Y)\n",
        "\n",
        "    q_net_input = torch.stack([X.flatten(), Y.flatten()], dim=-1)\n",
        "    Z = - q_network(q_net_input).max(dim=-1, keepdim=True)[0]\n",
        "    Z = Z.reshape(100, 100).detach().numpy()\n",
        "    X = X.numpy()\n",
        "    Y = Y.numpy()\n",
        "\n",
        "    fig = plt.figure(figsize=(8, 8))\n",
        "    ax = fig.add_subplot(111, projection='3d')\n",
        "    surf = ax.plot_surface(X, Y, Z, cmap='jet', linewidth=0, antialiased=False)\n",
        "    fig.colorbar(surf, shrink=0.5, aspect=5)\n",
        "    ax.set_xlabel(xlabel, size=14)\n",
        "    ax.set_ylabel(ylabel, size=14)\n",
        "    ax.set_title(\"Estimated cost-to-go\", size=18)\n",
        "    plt.tight_layout()\n",
        "    plt.show()\n",
        "\n",
        "\n",
        "def plot_max_q(env, q_network, xlabel=None, ylabel=None, action_labels=[]):\n",
        "    highx, highy = env.observation_space.high\n",
        "    lowx, lowy = env.observation_space.low\n",
        "    X = torch.linspace(lowx, highx, 100)\n",
        "    Y = torch.linspace(lowy, highy, 100)\n",
        "    X, Y = torch.meshgrid(X, Y)\n",
        "    q_net_input = torch.stack([X.flatten(), Y.flatten()], dim=-1)\n",
        "    Z = q_network(q_net_input).argmax(dim=-1, keepdim=True)\n",
        "    Z = Z.reshape(100, 100).T.detach().numpy()\n",
        "    values = np.unique(Z.ravel())\n",
        "    values.sort()\n",
        "\n",
        "    plt.figure(figsize=(5, 5))\n",
        "    plt.xlabel(xlabel, size=14)\n",
        "    plt.ylabel(ylabel, size=14)\n",
        "    plt.title(\"Optimal action\", size=18)\n",
        "\n",
        "    im = plt.imshow(Z, cmap='jet')\n",
        "    colors = [im.cmap(im.norm(value)) for value in values]\n",
        "    patches = [mpatches.Patch(color=color, label=label) for color, label in zip(colors, action_labels)]\n",
        "    plt.legend(handles=patches, bbox_to_anchor=(1.05, 1), loc=2, borderaxespad=0.)\n",
        "    plt.tight_layout()\n",
        "\n"
      ],
      "metadata": {
        "id": "E4pxsu9-mPGv"
      },
      "execution_count": 24,
      "outputs": []
    },
    {
      "cell_type": "markdown",
      "metadata": {
        "id": "QXh1rh7YmGO7"
      },
      "source": [
        "## Import the necessary software libraries:"
      ]
    },
    {
      "cell_type": "code",
      "execution_count": 2,
      "metadata": {
        "id": "yIz69YQomGO7"
      },
      "outputs": [],
      "source": [
        "import random\n",
        "import copy\n",
        "import gym\n",
        "import torch\n",
        "import torch.nn.functional as F\n",
        "import matplotlib.pyplot as plt\n",
        "from torch import nn as nn\n",
        "from torch.optim import AdamW\n",
        "from tqdm import tqdm"
      ]
    },
    {
      "cell_type": "markdown",
      "metadata": {
        "id": "7CYkeXJCmGO8"
      },
      "source": [
        "## Create and prepare the environment"
      ]
    },
    {
      "cell_type": "markdown",
      "metadata": {
        "id": "PV0R_SojmGO8"
      },
      "source": [
        "### Create the environment"
      ]
    },
    {
      "cell_type": "code",
      "execution_count": 3,
      "metadata": {
        "id": "fCeFY5FamGO8",
        "outputId": "8334efc5-0302-4600-c048-4e8332b5bbb9",
        "colab": {
          "base_uri": "https://localhost:8080/",
          "height": 468
        }
      },
      "outputs": [
        {
          "output_type": "stream",
          "name": "stderr",
          "text": [
            "/usr/local/lib/python3.11/dist-packages/gym/envs/registration.py:505: UserWarning: \u001b[33mWARN: The environment CartPole-v0 is out of date. You should consider upgrading to version `v1` with the environment ID `CartPole-v1`.\u001b[0m\n",
            "  logger.warn(\n"
          ]
        },
        {
          "output_type": "execute_result",
          "data": {
            "text/plain": [
              "<matplotlib.image.AxesImage at 0x78fe054921d0>"
            ]
          },
          "metadata": {},
          "execution_count": 3
        },
        {
          "output_type": "display_data",
          "data": {
            "text/plain": [
              "<Figure size 640x480 with 1 Axes>"
            ],
            "image/png": "[encoded data removed]"
          },
          "metadata": {}
        }
      ],
      "source": [
        "env = gym.make('CartPole-v0')\n",
        "seed_everything(env)\n",
        "env.reset()\n",
        "plt.imshow(env.render(mode='rgb_array'))"
      ]
    },
    {
      "cell_type": "code",
      "execution_count": 4,
      "metadata": {
        "id": "qi2Tk4qumGO9",
        "outputId": "5794df06-b844-4a99-ffe2-1bb48382860c",
        "colab": {
          "base_uri": "https://localhost:8080/"
        }
      },
      "outputs": [
        {
          "output_type": "stream",
          "name": "stdout",
          "text": [
            "CartPole env: State dimensions: 4, Number of actions: 2\n"
          ]
        }
      ],
      "source": [
        "state_dims = env.observation_space.shape[0]\n",
        "num_actions = env.action_space.n\n",
        "print(f\"CartPole env: State dimensions: {state_dims}, Number of actions: {num_actions}\")"
      ]
    },
    {
      "cell_type": "markdown",
      "metadata": {
        "id": "8lRro8JfmGO9"
      },
      "source": [
        "### Prepare the environment to work with PyTorch"
      ]
    },
    {
      "cell_type": "code",
      "execution_count": 5,
      "metadata": {
        "id": "Tr4VrlvjmGO9"
      },
      "outputs": [],
      "source": [
        "class PreprocessEnv(gym.Wrapper):\n",
        "\n",
        "    def __init__(self, env):\n",
        "        gym.Wrapper.__init__(self, env)\n",
        "\n",
        "    def reset(self):\n",
        "        obs = self.env.reset()\n",
        "        return torch.from_numpy(obs).unsqueeze(dim=0).float()\n",
        "\n",
        "    def step(self, action):\n",
        "        action = action.item()\n",
        "        next_state, reward, done, info = self.env.step(action)\n",
        "        next_state = torch.from_numpy(next_state).unsqueeze(dim=0).float()\n",
        "        reward = torch.tensor(reward).view(1, -1).float()\n",
        "        done = torch.tensor(done).view(1, -1)\n",
        "        return next_state, reward, done, info"
      ]
    },
    {
      "cell_type": "code",
      "execution_count": 6,
      "metadata": {
        "id": "v87pAharmGO9"
      },
      "outputs": [],
      "source": [
        "env = PreprocessEnv(env)"
      ]
    },
    {
      "cell_type": "code",
      "execution_count": 7,
      "metadata": {
        "id": "82nlQI26mGO9",
        "outputId": "f75d7e4b-470e-4118-d9ce-7af03ddc6902",
        "colab": {
          "base_uri": "https://localhost:8080/"
        }
      },
      "outputs": [
        {
          "output_type": "stream",
          "name": "stdout",
          "text": [
            "Sample state: tensor([[-0.0406,  0.0476,  0.0261,  0.0286]])\n",
            "Next state: tensor([[-0.0396, -0.1479,  0.0267,  0.3294]]), Reward: tensor([[1.]]), Done: tensor([[False]])\n"
          ]
        }
      ],
      "source": [
        "state = env.reset()\n",
        "action = torch.tensor(0)\n",
        "next_state, reward, done, _ = env.step(action)\n",
        "print(f\"Sample state: {state}\")\n",
        "print(f\"Next state: {next_state}, Reward: {reward}, Done: {done}\")"
      ]
    },
    {
      "cell_type": "markdown",
      "metadata": {
        "id": "_aDkOllmmGO9"
      },
      "source": [
        "## Create the Q-Network and policy\n",
        "\n",
        "<br><br>"
      ]
    },
    {
      "cell_type": "markdown",
      "metadata": {
        "id": "7lPti0REmGO-"
      },
      "source": [
        "### Create the Q-Network: $\\hat q(s,a| \\theta)$"
      ]
    },
    {
      "cell_type": "code",
      "execution_count": 8,
      "metadata": {
        "id": "ABFi9TU9mGO-"
      },
      "outputs": [],
      "source": [
        "q_network = nn.Sequential(\n",
        "    nn.Linear(state_dims, 128),\n",
        "    nn.ReLU(),\n",
        "    nn.Linear(128, 64),\n",
        "    nn.ReLU(),\n",
        "    nn.Linear(64, num_actions))"
      ]
    },
    {
      "cell_type": "markdown",
      "metadata": {
        "id": "PH4vUbtUmGO-"
      },
      "source": [
        "### Create the target Q-Network: $\\hat q(s, a|\\theta_{targ})$"
      ]
    },
    {
      "cell_type": "code",
      "execution_count": 9,
      "metadata": {
        "id": "RGqbOfrEmGO-"
      },
      "outputs": [],
      "source": [
        "target_q_network = copy.deepcopy(q_network).eval()"
      ]
    },
    {
      "cell_type": "markdown",
      "metadata": {
        "id": "FJ1lw7UymGO-"
      },
      "source": [
        "### Create the exploratory policy: $b(s)$"
      ]
    },
    {
      "cell_type": "code",
      "execution_count": 10,
      "metadata": {
        "id": "T6E9kafymGO-"
      },
      "outputs": [],
      "source": [
        "def policy(state, epsilon=0.):\n",
        "    if torch.rand(1) < epsilon:\n",
        "        return torch.randint(num_actions, (1, 1))\n",
        "    else:\n",
        "        av = q_network(state).detach()\n",
        "        return torch.argmax(av, dim=-1, keepdim=True)"
      ]
    },
    {
      "cell_type": "markdown",
      "metadata": {
        "id": "dVHtSSQymGO-"
      },
      "source": [
        "## Create the Experience Replay buffer\n",
        "\n",
        "<br>\n",
        "<div style=\"text-align:center\">\n",
        "    <p>A simple buffer that stores transitions of arbitrary values, adapted from\n",
        "    <a href=\"https://pytorch.org/tutorials/intermediate/reinforcement_q_learning.html#training\">this source.</a></p>\n",
        "</div>\n"
      ]
    },
    {
      "cell_type": "code",
      "execution_count": 11,
      "metadata": {
        "id": "FjpSAtp4mGO-"
      },
      "outputs": [],
      "source": [
        "class ReplayMemory:\n",
        "\n",
        "    def __init__(self, capacity=100000):\n",
        "        self.capacity = capacity\n",
        "        self.memory = []\n",
        "        self.position = 0\n",
        "\n",
        "    def insert(self, transition):\n",
        "        if len(self.memory) < self.capacity:\n",
        "            self.memory.append(None)\n",
        "        self.memory[self.position] = transition\n",
        "        self.position = (self.position + 1) % self.capacity\n",
        "\n",
        "    def sample(self, batch_size):\n",
        "        assert self.can_sample(batch_size)\n",
        "\n",
        "        batch = random.sample(self.memory, batch_size)\n",
        "        batch = zip(*batch)\n",
        "        return [torch.cat(items) for items in batch]\n",
        "\n",
        "    def can_sample(self, batch_size):\n",
        "        return len(self.memory) >= batch_size * 10\n",
        "\n",
        "    def __len__(self):\n",
        "        return len(self.memory)"
      ]
    },
    {
      "cell_type": "markdown",
      "metadata": {
        "scrolled": false,
        "id": "pfIPpqjJmGO-"
      },
      "source": [
        "## Implement the algorithm\n",
        "\n",
        "</br></br>"
      ]
    },
    {
      "cell_type": "code",
      "execution_count": 12,
      "metadata": {
        "id": "1VxwD6svmGO_"
      },
      "outputs": [],
      "source": [
        "def deep_q_learning(q_network, policy, episodes,\n",
        "                    alpha=0.0001, batch_size=32, gamma=0.99, epsilon=0.2):\n",
        "\n",
        "    optim = AdamW(q_network.parameters(), lr=alpha)\n",
        "    memory = ReplayMemory()\n",
        "    stats = {'MSE Loss': [], 'Returns': []}\n",
        "\n",
        "    for episode in tqdm(range(1, episodes + 1)):\n",
        "        state = env.reset()\n",
        "        done = False\n",
        "        ep_return = 0\n",
        "        while not done:\n",
        "            action = policy(state, epsilon)\n",
        "            next_state, reward, done, _ = env.step(action)\n",
        "\n",
        "            memory.insert([state, action, reward, done, next_state])\n",
        "\n",
        "            if memory.can_sample(batch_size):\n",
        "                state_b, action_b, reward_b, done_b, next_state_b = memory.sample(batch_size)\n",
        "                qsa_b = q_network(state_b).gather(1, action_b)\n",
        "\n",
        "                next_qsa_b = target_q_network(next_state_b)\n",
        "                next_qsa_b = torch.max(next_qsa_b, dim=-1, keepdim=True)[0]\n",
        "\n",
        "                target_b = reward_b + ~done_b * gamma * next_qsa_b\n",
        "                loss = F.mse_loss(qsa_b, target_b)\n",
        "                q_network.zero_grad()\n",
        "                loss.backward()\n",
        "                optim.step()\n",
        "\n",
        "                stats['MSE Loss'].append(loss.item())\n",
        "\n",
        "            state = next_state\n",
        "            ep_return += reward.item()\n",
        "\n",
        "\n",
        "        stats['Returns'].append(ep_return)\n",
        "\n",
        "        if episode % 10 == 0:\n",
        "            target_q_network.load_state_dict(q_network.state_dict())\n",
        "\n",
        "    return stats"
      ]
    },
    {
      "cell_type": "code",
      "execution_count": 16,
      "metadata": {
        "scrolled": true,
        "id": "kbi8PEzlmGO_",
        "outputId": "39e3524f-d011-411f-a417-8f72c118c68a",
        "colab": {
          "base_uri": "https://localhost:8080/"
        }
      },
      "outputs": [
        {
          "output_type": "stream",
          "name": "stderr",
          "text": [
            "100%|██████████| 500/500 [04:03<00:00,  2.05it/s]\n"
          ]
        }
      ],
      "source": [
        "stats = deep_q_learning(q_network, policy, 500)"
      ]
    },
    {
      "cell_type": "markdown",
      "metadata": {
        "id": "p-3XR-_OmGO_"
      },
      "source": [
        "## Show results"
      ]
    },
    {
      "cell_type": "markdown",
      "metadata": {
        "id": "VCMwXERHmGO_"
      },
      "source": [
        "### Plot execution stats"
      ]
    },
    {
      "cell_type": "code",
      "execution_count": 20,
      "metadata": {
        "id": "kWrIfjzkmGO_",
        "outputId": "fcf6bbf1-50ad-4a54-9a49-d4b7df84e56d",
        "colab": {
          "base_uri": "https://localhost:8080/",
          "height": 485
        }
      },
      "outputs": [
        {
          "output_type": "display_data",
          "data": {
            "text/plain": [
              "<Figure size 1200x600 with 2 Axes>"
            ],
            "image/png": "[encoded data removed]"
          },
          "metadata": {}
        }
      ],
      "source": [
        "plot_stats(stats)"
      ]
    },
    {
      "cell_type": "markdown",
      "metadata": {
        "id": "SpLObvs5mGO_"
      },
      "source": [
        "### Test the resulting agent"
      ]
    },
    {
      "cell_type": "code",
      "execution_count": 26,
      "metadata": {
        "id": "LKyHEYyemGO_",
        "outputId": "495db84d-51e9-469e-b00c-91c7d5707597",
        "colab": {
          "base_uri": "https://localhost:8080/",
          "height": 539
        }
      },
      "outputs": [
        {
          "output_type": "stream",
          "name": "stdout",
          "text": [
            "total rewards are listed tensor([[185.]])\n"
          ]
        },
        {
          "output_type": "execute_result",
          "data": {
            "text/plain": [
              "<IPython.core.display.HTML object>"
            ],
            "text/html": [
              "<video width=\"500\" height=\"500\" controls autoplay>\n",
              "  <source type=\"video/mp4\" src=\"data:video/mp4;base64,AAAAIGZ0eXBNNFYgAAACAE00ViBpc29taXNvMmF2YzEAAAAIZnJlZQAAR6htZGF0AAACrgYF//+q\n",
              "3EXpvebZSLeWLNgg2SPu73gyNjQgLSBjb3JlIDE2MyByMzA2MCA1ZGI2YWE2IC0gSC4yNjQvTVBF\n",
              "Ry00IEFWQyBjb2RlYyAtIENvcHlsZWZ0IDIwMDMtMjAyMSAtIGh0dHA6Ly93d3cudmlkZW9sYW4u\n",
              "b3JnL3gyNjQuaHRtbCAtIG9wdGlvbnM6IGNhYmFjPTEgcmVmPTMgZGVibG9jaz0xOjA6MCBhbmFs\n",
              "eXNlPTB4MzoweDExMyBtZT1oZXggc3VibWU9NyBwc3k9MSBwc3lfcmQ9MS4wMDowLjAwIG1peGVk\n",
              "X3JlZj0xIG1lX3JhbmdlPTE2IGNocm9tYV9tZT0xIHRyZWxsaXM9MSA4eDhkY3Q9MSBjcW09MCBk\n",
              "ZWFkem9uZT0yMSwxMSBmYXN0X3Bza2lwPTEgY2hyb21hX3FwX29mZnNldD0tMiB0aHJlYWRzPTMg\n",
              "bG9va2FoZWFkX3RocmVhZHM9MSBzbGljZWRfdGhyZWFkcz0wIG5yPTAgZGVjaW1hdGU9MSBpbnRl\n",
              "cmxhY2VkPTAgYmx1cmF5X2NvbXBhdD0wIGNvbnN0cmFpbmVkX2ludHJhPTAgYmZyYW1lcz0zIGJf\n",
              "cHlyYW1pZD0yIGJfYWRhcHQ9MSBiX2JpYXM9MCBkaXJlY3Q9MSB3ZWlnaHRiPTEgb3Blbl9nb3A9\n",
              "MCB3ZWlnaHRwPTIga2V5aW50PTI1MCBrZXlpbnRfbWluPTIwIHNjZW5lY3V0PTQwIGludHJhX3Jl\n",
              "ZnJlc2g9MCByY19sb29rYWhlYWQ9NDAgcmM9Y3JmIG1idHJlZT0xIGNyZj0yMy4wIHFjb21wPTAu\n",
              "NjAgcXBtaW49MCBxcG1heD02OSBxcHN0ZXA9NCBpcF9yYXRpbz0xLjQwIGFxPTE6MS4wMACAAAAB\n",
              "y2WIhAA///73aJ8Cm1pDeoDklcUl20+B/6tncHyP6QMAAAMAAAMAJAL8x7+hB0M0IAAAT0AEJEjJ\n",
              "qcBdFWYZ3MA/G4z6soHEPWmAKCtT7iEEOLn8+3jwHrHKYLH/u85gce9O/YYZIQKiJq2odoNq47kG\n",
              "fMPvjRFfsG7lKNWvVtlA7GL0GY5U1SfqspEJv7pagucYaIUqwC5CTNjfuqvNIzxhT6OOPleHpEJy\n",
              "1aPqSECZPwW1odv6EhnxywhIS8qLqjMK/JgZ/1psXqYKif01tdzPAk96qHPEkH3uQKLoB+N+uj1I\n",
              "8DgxgpdjU9VUpaLtPfZ7m5COrHJ9rGle+ct1JhWhcer+Mc2IUY9iw+YnH36Q28Y4azf5+tJsqCuG\n",
              "y30t/wugsviGwbOGFKCCxw+v8T+fgeZUu04i8j86mOkwRWBNxNY2vzq/iiPjCEiTylAmqgAy/Yb5\n",
              "LFEBXGdfdPvi9Z84MBJ02Fnc6rSm0OTrsWCAoynAMAe0WC1hghU3xEaptgUCOIYLIXghw7LQvUbJ\n",
              "iaR4Y2q9IVc2XprV97HPKiMIADewZ/j4NCzGQfa2XTm9+Sj69b4+82a0BwAAAwAAAwAAAwAAAwAA\n",
              "AwDIgQAAAMtBmiRsQ//+qZYAAAMBtEsxy4AQlXTwPztMk/29BTiPWSqyn45K0B5RTDtQn+C+MQsT\n",
              "e9pDRjn+xjWlu5j4t/yHvms7toX5tA3zM54xz0kPBxnOgE9qz5wbNzykudOJfuAGIxu7LKVGi++t\n",
              "hQ4MG39IiBis4t71aJ4mEatWQDkCh6hPgNBSMzmwaj31KbROjGgmfegVsuV9SJHOHiwR+DLbRjqD\n",
              "frz7GsI2TDo91xZ0iey153pSO0KJ4M4sY8E8PJkXKj2SSiDhBHtsMAAAAD5BnkJ4hn8AAAMBh9MN\n",
              "ygGlNjtaADak55is0c5OXkc+2fXohTZr3gJgHq6MPtjQwyR423g5r1Z0khqRum8NSQAAABwBnmF0\n",
              "Qr8AAAMBPkw9TKRwvVkl8ArScsy0yQpoAAAAIQGeY2pCvwAAAwLE1AzRH9usQZRVaKgRHExdQAYt\n",
              "JAkUkQAAAG1BmmhJqEFomUwIf//+qZYAAAMBsnbzqdOSpwR4ARB9uZPWnf6Fc7cFv3b+dTzoxu9w\n",
              "0TenVIkCpR6yMS6O6Y1RwpTtl3jfqLgWuKe/ON26FLWRlZldl/8REeCYzzcvX3bIrcPsiveSEhVy\n",
              "5wwJAAAARUGehkURLDP/AAADAYhhoBHy4n1Bsc3JE1PXw5hktAJSDyzRAOtjLLDvizkh/ouAA/nw\n",
              "beo8ziwfCpmTPxxWglCxcd0HzQAAACABnqV0Qr8AAAMCw0HgyNKtMEZ3s19t3FVq3LwFZihCtwAA\n",
              "ABgBnqdqQr8AAAMBPq9zAIXq/A7tBBvAsoAAAADaQZqrSahBbJlMCH///qmWAAADAbzGTlY98OzN\n",
              "7zTJjIZ72xLbIl4B2PKjoQa1S1YPg+mElr+ev8EQ7vjTC1MM4gCE/vRBgVYdtJ2QDxvlAJSO1mTR\n",
              "XzujYJgisZzfrakemL45/107GTWcVke65u4MlQUkAi/HP1grdSIw/mzJiUOr9zdHIJz0dRZ+X//R\n",
              "O0datjcg9Khq9x4Crt/dbasRqG16uPZ0TOmr+MpXcP64+SIN+ShiI3Y4Wi0mLlni8sJAlgjJ/orl\n",
              "GygXd10z+OX1mf9iRi5zScfnWYAAAAA4QZ7JRRUsL/8AAAMCC+bO7jbiIPjK8quAwsDK0vxdmhm4\n",
              "rqZd+zAJzoMLVmw5QFwu4XdBjYdggz8AAAArAZ7qakK/AAADAtbRw+tfhXTf3XBsmS/u31JxwL6A\n",
              "T0KWwW8epVwVNQ4UkAAAANRBmu9JqEFsmUwIf//+qZYAAAMBvgpxN+CtgHzw952BNQaWj4CSKGwo\n",
              "Az9D9AbbejBNz6AKW8Gv2H0h2kbBPkNDKUseT4PTSMD0LR9/7Xe5v4H8jB8R1j04D5Vs04UVDFKN\n",
              "wPSn/O+kvAH4Fy8rPIAr4rosb7eRsxr0l2MTs9tu4ewvDdxzhfzlXLh3rOidB6sjr/CrnpSdBUJd\n",
              "TUusFuLJS9zDOYgxQF+knAAcBRXdMgOeslkrXfRHPNPH+fI5RHeCwuIgdv0zFc35A1WRNRWaOR3b\n",
              "MAAAACdBnw1FFSwz/wAAAwGINZquFhMhXs1m0FXjXCrCGGNAbmwG8+iwBx0AAAAXAZ8sdEK/AAAD\n",
              "ADy8A+zuvu/5pBNPCXkAAAA3AZ8uakK/AAADAtXTAka9gzhMAhOdxOgNHHDSn/qzFoG516qWBiX7\n",
              "jcABsNcQXD9MElnLP5cVsQAAAKhBmzNJqEFsmUwIf//+qZYAAAMBvI3N1gCadddR0VgrqN5wPHIZ\n",
              "0hcrIwQUCFWmVRkIbrkYg/h5r7S6GfRuS6f7665SO7GOnDWHIwmuFUs18bCkFUFvwUFEzu/mYnOH\n",
              "OuKAESJ00cJVIiUuRYgEKerpTig7qeZt03t2bpWn3uAk9kSL+vNKCme7faGsSMAy2Ch3U4hMXLmi\n",
              "Z9QJ9pBYb9uqiC03q6t77c4AAAA2QZ9RRRUsM/8AAAMDYGvPuJi9kpbGrdxyAGkELk2J3bt/hyK1\n",
              "twDNV7/O3p6iPLiy3zOg6JOAAAAAHAGfcHRCvwAAAwLXkMha92KeQLUqX5e/MmhuhgUAAAA+AZ9y\n",
              "akK/AAAGSdMMVIdPiDhy3Mt2KdH3RrAL+xy/A0TO50Nyl3Ey8pp0h7clTzXWAbDkfjYS6jD8etYA\n",
              "VsAAAADMQZt3SahBbJlMCH///qmWAAADAbyOUVhAJTSBCg40aY5nnyGP/S7wCJjVbnRhiBe+Nbt5\n",
              "T4ht38tpIiKx7idcuDobaAYIZP/JALn/NMGejoOHNJCsnod+bbAyVIOuTgFH7A8XZ4d1CcEG1/AO\n",
              "G4b6nNkH1KFCtrSZvJ24jFihM0zk5UUuuxbQnDis+uPulas0/9zf5BX4JV/fukfV53AkPQJzGadE\n",
              "UzIi9mb7nvuUCOJFf9cj5s/dhIgvbbfOiptk76RGbh0VVPVF5LKAAAAAY0GflUUVLDP/AAADA1/x\n",
              "nyMul+Nc8p01ZPGkzBAlQmGrSWeekyAmuHl9zEAImDyJsZ/RRyqdkjD0n1vbzrhb3bwoLHCUyHJd\n",
              "Kr8rKabzNwsmVOH+B9IyyvTmsIkqVH2P4g8VsQAAACABn7R0Qr8AAAZH+wTLQ9Aa+wqgjbIAR7iM\n",
              "Z9cxj34kYAAAAC4Bn7ZqQr8AAAMC1rSRCF5odkt2TqjewAQFuLN+6kJyETJDtfYgA8z8mJ7JeRCx\n",
              "AAAAvEGbu0moQWyZTAh///6plgAAAwG9HmjFgC+K132GCBNlgJiiiODvnmaLwercvEPgzd6GYjex\n",
              "Rl/TJGTotf8kqDmEseqnZ5dMb4w/4c2Enx9Y+0iIOxIy6VmeRnesWgE27L5ZwHr2QKkWtUJKShs+\n",
              "Q603V5nDqin983IJOdX/r1OH6FcPCJ7DVY74537fr4UuGkzCwPv0+20tLnvQN8POUrKSFAKLcg6/\n",
              "mNu3WUZclnkNPqOIvpZGwsVzqWdBAAAAQ0Gf2UUVLDP/AAADA3Rrs3gwOQQ+bxmAwDIIwi/C+Cds\n",
              "yBzXCMT7cw2pWoAHBNS4wCdEO2hlvAW6RMkapOKGKb6wwIAAAAAvAZ/4dEK/AAADAteQyFr4a5bY\n",
              "UL447nFQ2omMV/X7wQAJdfyiRoxaUt2PpCrQN6EAAAAoAZ/6akK/AAAGcdKeRrWxPAu9aHXyMO9s\n",
              "9DOIr/QFRaYdIdrp/DIoIAAAAIpBm/9JqEFsmUwIf//+qZYAAAMBvWuFndAF63wNxAVKWCtXAK+J\n",
              "8UxkAoN1uFXDnfAdKPt1mjU2Nq6ze800S2tPlYk0B3uxvAAXG6OptmGX2VAznzoZkn+lnzigwCbV\n",
              "4PZHNPc5SnV6q0p6eOfmjGM54hEy6hh6Wu1IFTPbEwEeP20o8EZYOCKFjLkAAABBQZ4dRRUsM/8A\n",
              "AAMDdMOKNTTSTKfTa+FIRqWTBYwIPtnLzB6ZZeFK+HblbEV/4L+wAj20H2Ybk9S/v7lr6YrMG9EA\n",
              "AAA0AZ48dEK/AAAGb/qWM1Rirr+BHuEvMiad04/p01gBa5CjeGrRZNU0kh+I1hGzXSLife6BvQAA\n",
              "ABwBnj5qQr8AAAMC117l7i93X9EaWyXOkaWcAAFbAAAAm0GaI0moQWyZTAh///6plgAAAwG8xPyh\n",
              "wACLRovqm26mLhQMOUZUwfFnxVU/CFu1Zy72XGZ4PvKeO1uBwZcUkXTlK8XkRHQzlxTLcfflLWtg\n",
              "+HhRSBjB0U5VGpiveiMjYX40YLJEvT7tvzx7GJxwM2Pf3FIvGzNil+NEitAmYDGS68xk0nli1V68\n",
              "/DQP3nQG8r1H80BlKglPO6D1AAAAVUGeQUUVLDP/AAADA3TDihbkwjM29Pl1fF7dUALacMW6+dZA\n",
              "8pRXHL4QP3Ej9+U/xT/7+At5YAXCm2xINNhvla6KIWM6p1umsUqTdqsKn0G/7UbiKCAAAABBAZ5g\n",
              "dEK/AAADAtUZ57DahBkKpriuJWrk/09oS0+eVNKKs4ccMYszl5wAlHNlae3ufKSnLfxhBEv9peT3\n",
              "CAdg3oEAAAAeAZ5iakK/AAAGcdKeQeleBE/+RbDs40IaVmJyKBvQAAAAdkGaZ0moQWyZTAh///6p\n",
              "lgAAAwG8xQjJVfM/kImV74AWlAZUaA6XU8gyT1otop8WNkMK25ctamcfl3Ip2iMjAMbwJm9PSQsZ\n",
              "xYMityE2XiCOJ0xLw9PckNcS0T03hS6r2sZ/86T2/qzYzfncin47ywxzPCnCcQkAAABaQZ6FRRUs\n",
              "M/8AAAMDdMOM4y2TVovxx+z1gIvdACWkz7t7RVAfwrp0Acu4trW7rnx7sb1nuO1EvHjAFzY7tBf/\n",
              "o84UUTj1rWTV5ih+a+tPExgid+EdLUbxAN6BAAAAPAGepHRCvwAABm/6fYw3xRC7C4dWhTFcm6iE\n",
              "/zB8gmPzE85fqWMANF23N1TCJ/jDYkepd6zjn32r8oQZ8QAAACgBnqZqQr8AAAZx0odrYEm8f4qe\n",
              "zob2E1bkxoASWUv3+Lpe51cs7YMrAAAAO0Gaq0moQWyZTAh///6plgAAAwG8s+rngBoMvjbppYYr\n",
              "oR2R47PmhLoHg5HCAUHYRu4WmVsDLqWZWiHUAAAATEGeyUUVLDP/AAADA3TDiw1b+xQGDhkGCqPs\n",
              "TzbqGLt714n9oUAGxAaR7scF/FMwYzbe33DgAG7nNkgy3m5OFKtZQOSTZqwbTvJDC7gAAAAsAZ7o\n",
              "dEK/AAAGb/p9jgtimeUovpFJL7nuhyF36DagA+TX+9fNsRzXjuFVhgUAAAArAZ7qakK/AAAGcdJc\n",
              "UJ6u67+jK+xhXG5XVJgw3MAEA0YIm8m0BrCDY3AJWAAAAI5Bmu9JqEFsmUwIf//+qZYAAAMBx2ho\n",
              "szAKJ5mCadh+Yh0LEFYAeHs8zTAJrQDqODPE+i0IOHtNBb5bPECzZf3bQfu8tdwruS+MIxR50g0k\n",
              "oqXW4Vu9PxkGOQz/aQiRWdy24RyjRSP6Y2Zm/slKBe6RtaydREuXJjoLdHjt23PqaQHC9r6TQRcH\n",
              "2402nAuwAAAAdkGfDUUVLDP/AAADA3Pxn1rtn8/T4mOYv3sEgAspHBd0fvIPQ/LScKQdZ5GV0Wyl\n",
              "OeP8CLmVsn9rZrritOJTNy7G81P01tRi5BJU0qhFZpYU6tqfuM/K4wj8iqDfVvO433R7+YnGPQHs\n",
              "yW211qADdzmGL8Zzoj8AAAA3AZ8sdEK/AAAGb/sEyV56lICWjkxcOd3PNjx+zSVfpjsG+WWRBJuq\n",
              "abDrGykVBUawAvtIBwDegQAAADEBny5qQr8AAAMC6NE8tFxQWPqAEtqHLZZ1RafS8hltWhYTDTY0\n",
              "OlYywDWwDksg/IV9AAAAjEGbM0moQWyZTAh///6plgAAAwHHaHCzMABVfBV0Iv2p/AP36S16fUlm\n",
              "cWjOnGMd2ihYxJxEBUh2h3q2kPpc8K+/UdLg1pcNSStQ+mTvh6rLuI4G12cMDKifl2ylAhP73bPZ\n",
              "j6OWolOVgbGeKJ/MrOL6KQMDHQYmFJICbSZ1dud8eae/7s3EWN1DsUswAAAAW0GfUUUVLDP/AAAD\n",
              "AZG87ycuJxGmQcwowAW+MlHgNEfIkGoyq8OlCYO5erqc00pmrg/btHHqDSS2dlLebUzB5JQvQq3B\n",
              "o/J3e+6VAF/sj3FE6FGb7eDYA7gkGzAAAABAAZ9wdEK/AAADAug+FZEZ3Hs8Sg9ACS69Y9dju4Iz\n",
              "X4lYIYTpcnv4imqarzqY+adi000R8d3WAwNC1J/I6kBvQQAAADYBn3JqQr8AAAMC6K+UW5lZmRfB\n",
              "ZfKztS+dHAkxO+0KfGEAHlyEY6pF4HaACaa0eMnE5l/5EYsAAADMQZt3SahBbJlMCH///qmWAAAD\n",
              "AcfuF45AAK2y3Woc0ICCuRZfDArx+MWmyaOG0HHuWuIs1piGy0t4P9moNd28Wy/4IICE+plhHv5P\n",
              "YEW/VyHZ884MgIpMUSxNjTyUydt1Y/LRGxTwYFfiwCrKQBYoKvOQP/nk74+akffRtWMX4DIK/3b7\n",
              "GTZVR3BtVVL26qk/kGK0h1Su5Zmd2IMatSp+TinfmIS/Ia2JoOS4+xn4PGyWGNeuBpLQ1+ii7SnV\n",
              "QjR9ieA1lRyEpLlaKex1AAAAUkGflUUVLDP/AAADAZGYK0Jhj6KDR1SaAD02IT+8VSTtCx46KP2W\n",
              "b8ZzHGn6AYEXT5Cbj2dqLOV4ibyp4LkvrOy1mYe5JtTlk080lYr0wAGNEXEAAAAwAZ+0dEK/AAAD\n",
              "Aul1V+7gjwhvAWep2JWSIJKNczG3fCG47N4Nt0aOePq+KkGtPxRQAAAAOQGftmpCvwAAAwLpXuXo\n",
              "vyQoipLUAiu9PSNy4JjAAsaQN0ir4QlgMTlulLbS38ndsR8e5DCB6urBswAAAK9Bm7tJqEFsmUwI\n",
              "f//+qZYAAAMByXBRbEA0LqyF0znNWgBJvLbnUy20byc2L3MEAMbLWpbXbgp73jlO6Qp1oR9Rt1l3\n",
              "lw/IGRvyKl8n+yfge1i0sqblkQlMS10swN6JHHKqxJvo4XY56c9y4BSb3Fk7661dJGe5b8lnsVaL\n",
              "PfbHvgJYE2Pl1m9vVP3Otax3gt+UBMfIAVKp3JLXgRgxT1v/7OhGoXnMRw1czr4/t+C7AAAAWkGf\n",
              "2UUVLDP/AAADAZJLzHOoAWNChx4KehdGEfRMo7Xk1H0qblKD2eU5aLSGwLVBrjPpM+hFd0SLUvrx\n",
              "WN59ZuTSM3V0f0/bNU7tqiMtSE4w1y5qAYX7LQZFlAAAAC0Bn/h0Qr8AAAMC6IYHBjjICCgyAFvb\n",
              "oqZWMswUwpaz3IyNimiLiDGjbChIBs0AAABBAZ/6akK/AAADAulf05tDyceBDDqtNUAJLZwof6ek\n",
              "ZYQdbD/Lk4Azf5kZG8XQvoZJXHV3OW5FN73SarQplkeuFtAAAACLQZv/SahBbJlMCH///qmWAAAD\n",
              "AcdYGcUuAYd6TnulTxbdeE0TRui9OBiADL0TQEdYvRQmzuRybX1Oa2YnN3DbRwngcC/iyvPhvPME\n",
              "TSgkdK2jU0NYjgm/zSvCmxSzegFV8Ylezqt0bfykp+r6QDyB4Q/8FBpXYnwK/6qXNDSi3z1Mjkdb\n",
              "OrmY9WBrkQAAADRBnh1FFSwz/wAAAwGR5zAnumEI2xHKMgOIZrigrIrVX0MU6JHuo0PyGaL8XB8u\n",
              "G5Nr6DKhAAAAKQGePHRCvwAAAwLpbb4Kh6/kc9EGDZQKcBXqqEAI8H5QDWiSix68qBswAAAALQGe\n",
              "PmpCvwAAAwLpX9OZnPF1Zpm+Mj5R4RuE3c7hvirkcAB9yLnOKGtNl9kUEAAAAJBBmiNJqEFsmUwI\n",
              "f//+qZYAAAMB0iRle4A5cGjEzk0OjZhDkMpdCmm0DMcBDEpQd4lUstxhCYFLu+BCyQIz98KKp89R\n",
              "qI+AfCuHawXgDPLh9IwL2pTXpozshYt0o2tG56v/ccpAumkf1wFukX3o2EVDFiu0cDWtVFx74plS\n",
              "Pxp+3RWads7RO9ax3N2r/oaXhUUAAABhQZ5BRRUsM/8AAAMDoFe1WQzomLT1JcTusPMQAtX8hQuq\n",
              "6v8VOLCC8BeB7uGGr8zDUsFLrQt5q5+o9hRQbyIuIAVfxzCNFY4SytOkn31zdF9IiLATevTD1f/0\n",
              "I123f/gyoAAAACkBnmB0Qr8AAAMC/RrViZEcG8C662B/BQuhCyRGpYoZR2sna/AYyoeGVQAAAEMB\n",
              "nmJqQr8AAAbB0MvRhEN7W5/UWZa4Y9rHirMQAALrR9v05tH7fnlIhCaPDjFdXg00xipsbd1oN4q0\n",
              "R/NbcBow5gQMAAAAmEGaZ0moQWyZTAh///6plgAAAwHSWBmoyAIKU4UktymHM0GW7X1FsB3ND6wL\n",
              "Fpm3ImXU7ozkvCrB4m2Z74v7BVXB/l1k7bl2Adx/pR4aoEC+JDY0W1Ph0W+yhMfhaKpi5wG83Qvg\n",
              "6/U4mPqlwWsiBbzMShP+QbiDEkeyLNe2huMJnTo1qOLdA3nhaaaWnP9LvduaNiYqhZmBAAAASkGe\n",
              "hUUVLDP/AAADA6DBAhieOHQFkYvsdsgrDwAsxgIPuzqzqLKXTIFrfZczHHiEhAxZ56BdXnC/1kV/\n",
              "StlNbxKAJJlK5lFOCmN7AAAASAGepHRCvwAABr/3XUFuOjiwPbktzl3hhOCK0ywYJYBhAC1eE5Fk\n",
              "jPCtRe3exIPtPdV96/OafD7AwZ9bA9VWYSO0lz4de+DqgQAAADcBnqZqQr8AAAbB0MvbUDhN1mr3\n",
              "3Iy5gBHDquvQKvnlAzLcRkzTqq3YeTPJD5E7Rjy0gB1cdxvRAAAAvkGaq0moQWyZTAh///6plgAA\n",
              "AwHSJYdcwAbr7ocNoRb0zXanbu/st//r3mR0BJm7G20wdNVotrHiMILwq/RDzQUEcoOrdQSLdu+e\n",
              "iLMXKg5NGsvuhY7i8iGE+VUgyJumHHth7lOXdU4xPov7yuRiywQDnNckUJWhlZPYDtyrREts7SRN\n",
              "lZLTK3BH6qkwLayKbL2IuelzKnll5t+e3A+tgRcQ65H6isdEcKEKaZNhE7ud/kjXCfby9jtj17RM\n",
              "AD4AAABNQZ7JRRUsM/8AAAMDn8dCoG8US9ACx2ZdOm0YdZjOY1tkGadxGIYUBf4wfNLltqq+V4kw\n",
              "uqQBAnq5ZOybsb916nbVyDbCiYWN7ycsA1IAAAAvAZ7odEK/AAAGl/sD6xQgApdmzEjnA/VoVk11\n",
              "xoNrnlLGtk9kk6Lcw1PtPhhLxJ0AAAA6AZ7qakK/AAAGmdMMusYors+BiAAWpUFUl8HhlTkSmF/g\n",
              "Zel7sLH4n8hNFwsgIXnWhYCV4bY+MrIhYAAAAJpBmu9JqEFsmUwIf//+qZYAAAMB0iVWs6AFkGtF\n",
              "REsc14fOIgI0v/bWQsrxsgiUX9KZC1yQbnQh9SycSuaa21zHCKb5BrgNKxQWc96+874ih3tYKPO6\n",
              "AAOg4WZBQBU5WZ9ewccD0OMbduDyixYBZ+XHscErZP0Y2w6C38e4ZJZjWBGUuisZ+vbE0m2YTr17\n",
              "piI3TZs/hr7NHwKjAAAAhkGfDUUVLDP/AAADA6BX0NJe5tASA2imVctlvADSQfDxddmWfc8mX3aa\n",
              "a/pv48s+KKbtmEcFfb6/EvuY8EACBo0BsgpCRqd0LGwEpqUg+fJ6vXNyqzlqyfuyRNWf0ENO8WYK\n",
              "Yfj4/t6bDOg1RYPhm5cYDL2tsCyBwQWnTf533+9cWzBVKALvAAAAQgGfLHRCvwAABpf7BHYrkT77\n",
              "+dw7mH/7T37INM9SOlmjOdiGj+LG6atCuEVY/0AIJUFDPBVyvEhnB/S+Ko/TKUjKgQAAAFgBny5q\n",
              "Qr8AAAbB0MvI5Js7UAEXb0ieP4Ppo01oP9vj0fSzI9bpXp+dr765vtrkWVi1jCnsZEqvVfr/HyXZ\n",
              "ZkSpccCXA8TE1feg4YYoyKMGqyql+LOeAGpBAAAA00GbM0moQWyZTAh///6plgAAAwHdJSLbACnr\n",
              "VVe6n06NEezK5cjsh6DxlZSlxl/rPC7xQNm+FmGO9Gb0JHCbMiDJcdll7qsmY2OHKIsk95tUDAb6\n",
              "dtIQ+MMOzscqe9Xu8QWh9CMxXGg5L/3kGG28ePEEXFGgYmvr25/Aau0qHddxq61Oh3+x/RTEXXEK\n",
              "/gClUFUYvLhiHlSfKFc22qhiLacEdjJ9L7bdLklg1yKMOr/hVbZ3mSwXPiXr9oSvlAG7MIoTY9Ca\n",
              "GRW1i1Z5n1iom+u54iAAAABKQZ9RRRUsM/8AAAMDoMECGtFaYbsXAQEircPIY/TCkIEMWR2KnkAL\n",
              "kDEtoAlTaj+znsYhjNN/HNtYV1Mo8PURRRfqtLRF4bVZAwIAAAAqAZ9wdEK/AAAGv/ddxrH3X2B8\n",
              "8qqWbTq46jl/k+3pnHaJgedJlzlLrAjZAAAARQGfcmpCvwAABsHQzBaTy4TdHIQA1IiEbT0WJVQj\n",
              "i6wLEAOToaB+xPhYWO8YeU15zcOyEtu4vuge9savfbq77FYanlYEbAAAAIhBm3dJqEFsmUwIf//+\n",
              "qZYAAAMB3OtHy7uyWmgAVt0TDzOoHsGWHgNj3DA7c0vtJ3Rady15DCQWujpuQP4fdaqXgcL/yHyM\n",
              "jBVZ0ZBjps6Fb3KTmM3Zv3kJMsFsPlk+hiRRXNBVZ5i6V8N8DPpqzNQEtv72+EZSdChwcIg+KLRN\n",
              "DtT5I/27Fu+MAAAAUEGflUUVLDP/AAADA7ZX0MPdoYvcGH9QgYfN4Jel3RBjqaFBYASielBd1toV\n",
              "8piSiJSldFJz0iVtzkK6a25uj2sfQGqkEn/R2grzYVDWQAVNAAAAQQGftHRCvwAABr/3XcYNqzco\n",
              "AuhqP+/CI6NV8y/0gAQZi6jkOJjCGOSFa390C7NEYLkjtBDQ3AZRMJI2wn/bACJgAAAALAGftmpC\n",
              "vwAABunQyo5QjcF5am/CE6XrI9rYTQ6MQcLfvlPWyyXGothr4BgRAAAAcEGbu0moQWyZTAh///6p\n",
              "lgAAAwHdJYZKr5n7e2m53L0bNaB3epX4n7AgBL+0TCssxB7QzOyIRPxfu8Xg80M3LHJ+NrtCLtsW\n",
              "KPmjInB4UtWe1r8VXXvLf2QEMFzuY5clJXtNUTqLy4/LzHvYvbqG07EAAABfQZ/ZRRUsM/8AAAMD\n",
              "tsECDWc/IwnwBXXpFUwirwjKQq9a9VJOvTNp+XAAmfPM25dt60WR6MLVcrhFOr+p4skpLlO1dUgU\n",
              "qGKNjWQUlMl7sdlWNgTitFJGwcUF0mtgEjAAAABEAZ/4dEK/AAAG5/daENJp8wB43aLUlhKIKVAC\n",
              "UWczGE55T4Wn6Yr1a9iSQ+ZEhShl+cyt29rmkshn57u0vCeXnQkVi2kAAABDAZ/6akK/AAAG6dDK\n",
              "jlCOOkrHoNSYY+oJE1AAF1HUzzl/Z9pkHwNe8RIFzNB+kYaNB62Be65v8bp6EEpI6GnT+WmDPgAA\n",
              "AH1Bm/9JqEFsmUwIf//+qZYAAAMB6GiFl2ILLSeoqO3lKZHizUnsaiABe+T5ILWMQiqy+4k+7a92\n",
              "zd5XjfeqKHAO9/BTiagkuYFWA47psBpx0DI02ci06Xno0mIP/E7kjV7XizKv5jmdZCkoxs1/bBf0\n",
              "Ng40WZqwav4fqYefUQAAAFlBnh1FFSwz/wAAAwO2wQINaArh10hAgBZ3qGvxWyz/XsoDik2lJ7/s\n",
              "1eIMLpysyAL+TgAvleeKbJF97LnZ5uf93l/52WTmRmWBgYg0YqbwLUQAzymrdUYB3QAAADEBnjx0\n",
              "Qr8AAAbXO8evo+HBzy+0SUOi851/+lUldLmszhxi685Lpsx2kBhl9ZNk4MCAAAAAQQGePmpCvwAA\n",
              "Btc706qYpX55u0HdJ/awe884BGXQAkuiY+3EAoqiihOnkJNUiVvamiyib+MDYx+8CbcH79goQELA\n",
              "AAAAc0GaI0moQWyZTAh///6plgAAAwHn60fzPd6flaqzZOSAJ8YtvOmH/6HVEngBrAlN9F76zwB8\n",
              "r6J/sOn5AB3BMjr3v8dL8cSotuhPiULvxH67oZsQjMmhYUI2ICItwVNtbWiM0cfhclQRfFIH+SZD\n",
              "3Am8npkAAABdQZ5BRRUsM/8AAAMDoMECGvUj/6s3ZiiNBZ8BuNIYO1ACPOzFSPAm84sWU/Aj7ts5\n",
              "T/kfylal5C7AMABjhfV2B5HIoVok12AGiK3lAOBHY1W9XSZ4y84SCXKZYB3QAAAAVwGeYHRCvwAA\n",
              "Br/3Xc4I632jR7XpZMwYUAIf92lEOfrAMH6flpUEBL20LAB9IUL0U0rnmdQHGxm34SrwshB17RIH\n",
              "YujGLGdXNey8X85NhhWIRuTpotcEHQAAAC8BnmJqQr8AAAbB0MwbctJtWXCXEXXiPZ5kyMm3ObXI\n",
              "f3WwjM0PeJ775Bhgia4XcAAAAHtBmmdJqEFsmUwIf//+qZYAAAMB6CW1WqoarbZsuweWiHMl8DHT\n",
              "PNTdZBu5Eo1+pqOadWDlSX1ZBazFIGt+NdnOey0/s5tKlNXptVi4IpnmOD7Hy8AcHCtIraNqzgMC\n",
              "/CdKL2OsbQDeDPtVsDzCn5jtwplqiY0Bc/r0SGEAAABnQZ6FRRUsM/8AAAMDoMECGvhHBYWsUzLk\n",
              "7QABN8IZB903xUNsoa/hYi6X+zPd8P3pbl+Cg4TZlsEk//lRQ3BHhnp1C9/xzl1YpzgMeO9hJNYL\n",
              "uqSpCPJcTRCmf1++haXUtySbAEAZ8QAAAFwBnqR0Qr8AAAa/913OzXM0vNMSARYNRD25utzZZtI3\n",
              "1pc2PKQoxKUcNzK8xhv4TixSCq0OpkzGh3HAogioCAX7iO8VJPz+ibegHPLWUtZdN1gAg0WyXKKc\n",
              "vZ6DAwAAADwBnqZqQr8AAAbB0MwbcuG/UL3ZYlBn61FH1WIcHvWsf2kBfMPFy0IvXK0UxovzY7Sr\n",
              "q0AGpRSTOJOBUUEAAACXQZqrSahBbJlMCH///qmWAAADAfMlxrbACJqBO7jLS48S3Oh/Net+PaeD\n",
              "JB2QtTQG5+AZajTvpmquUFs0IhaVBXR8ByUAThZOAVrbHovR7fZ+06+YwYp2I3zPDqd/MU9RRItw\n",
              "Sy5VrZpkt+EmPWVZeNZtv8f4vuuexrqk1jkEXB9cPqw0a4GUidUWpoO154cFI9QpnpougAAAAElB\n",
              "nslFFSwz/wAAAwOgwQIbIGxCitcqMhKRAAJ2AF/sVRI4oktIWqKAis8JHeRN7114PbSLvnv9aeNX\n",
              "hXlbvGyTzxrAk1D14BNwAAAAOwGe6HRCvwAABr/3XdbnIgLqEYnmvBtHtiwTH7lAJEWAKTeisJQT\n",
              "HgaYdgrJmICg+DX+gpgHZHjlrIXdAAAAMQGe6mpCvwAABsHQzB+6Z31pNyUKb5q1hn1xq1WE92+1\n",
              "wKJc2AOUbRLLnKUEB6KgGVAAAADXQZrvSahBbJlMCH///qmWAAADAfMluQcGgBxuHZm95lB4pQe2\n",
              "fMESXQpnRo85fX7lI3W4rRw65r/ZeT3nBVXQ9XJaq2wykNEOvAGmOGujwnVfDjmf5Vvpbusrs0GB\n",
              "I6LWHs7Ev31kkqF6OhUXA7SH+FEqNdEtVx+WDInkpEBoZy4AE364cPRz5dvjB7IgwCtUFLaF3CW6\n",
              "qBfmg1m+IDzS7fTZH3VGr/gErwiBKaM0mH+h809tnyAmf+vyBgA/T8DDhsC/0JRiA6NPW6QfkC5C\n",
              "1F9loqzCwE4AAABYQZ8NRRUsM/8AAAMDoMECGyGoHJkT0zOvwMHtfbBk4C1WOII5vC3EWHuQMlmK\n",
              "wGsD71mYiNrHDSACdscJna4ENGTEJNSOaic9w1l/1ocOtySNQK0ilgCDgQAAADsBnyx0Qr8AAAa/\n",
              "913WCO6yXdA+xX1wbydAANrUKoyHkADc6EC80UaiSjE9wi+07xCZD11iCS4tnwibgQAAAEkBny5q\n",
              "Qr8AAAbB0Mwfu+lAAF1I6L6gstsLIjPQC8+bs4oVN9anPwcylVlz2jfhXtXTBeSYoAjf6/oET4Cy\n",
              "NYTTSKGd9RJ2+FtBAAAAjkGbM0moQWyZTAh///6plgAAAwHzrG1vBn1ACshibw1RPqtgLrsxzgEb\n",
              "q+7NzLdQAVsyurNRnHZtVm5Y+taVwCd2C7HaRFve/106nifNlJL9u7bvd+ffBpIAh//uv5X2A3Tw\n",
              "LVuqsyYGMhV4ympaxNDxybsTrUO4MMVnOkNuF4KGWeLwyZYiudUP8T1bkDIAAABPQZ9RRRUsM/8A\n",
              "AAMDoMECGyBJ8IUIy8CZiRydsmzSI3epUKgxO6neAvr27+cWDYxtqNI1j6sMKMG3dX/Y6XnolbfN\n",
              "sIFyWXflMQj03ADKgAAAADEBn3B0Qr8AAAa/913Wgt/bPDo5rqCPh+dJIBAP29fghkXAZ1fC7S4f\n",
              "ziPzuNtG7iThAAAAPAGfcmpCvwAABsHQzB/y7g0JdECbNjTQJf6Bf2dCC13icwATt3WYxS64iE5B\n",
              "Fpc5Yu47iemKL3a0v0MFtAAAAK1Bm3dJqEFsmUwIf//+qZYAAAMCAahxgu0AOIF8rqSy1i2iDaPJ\n",
              "pASwqGOaRUGdUs6cmvVFbz9Id9YYvEbwPnGntVdDN4Uak6jSvGAfImKf9WwoIwz6Cpp2OimS6nsv\n",
              "MPqbFi6/02OL8J17TVlAhYdcs68ksD7cMnAW+ki4+halfNP9Q1/wXxP7OlnqN4B31CuEWPxilBwf\n",
              "TdnCP+Mx51Q2ewmYWTyHH9TNUxkidAAAAFhBn5VFFSwz/wAAAwOgwQIbSRp99CmWplaABwTTnx0I\n",
              "iVtidw3oci56yTD9o03pVFHUTb9DidrEK9ld6RVz1r6HWOicGBFu3xiuhl6098DUDZThx9JAABSR\n",
              "AAAAQAGftHRCvwAABr/3Xd6C39HYWo6IQAt/DJ0vEEQ5JoG5vuYKZI2AJ9XpPPNW9w33TtsuOa90\n",
              "RcJvkTwV+pTEFfAAAABIAZ+2akK/AAAGwdDMJHLt61UT8yc8SkObaAFsbe2rnwX5WGzx/mBZR06Q\n",
              "N1x7p6vm8mrhPhleuB1MyGgn1UslCrukXzS/gAz5AAAApkGbu0moQWyZTAh///6plgAAAwIAxPTH\n",
              "bgAuisZgDO7oosD736cvp1khHc7cQRmr7cpjQM+KXY+fL/6j+woL79LfuAX1mAkMYZ0XCYqg+Y9A\n",
              "IxwDTiCfcUQFI+2PsvKqI+asv0lR+uTGOZFqoc44n7BRb/lyI2kqnLJvXXBY0ZNk4eOGErEWkLgs\n",
              "2jHap1NLY2fI9N1olc5WwtNAPIz2vqBbFfPKLvEAAABkQZ/ZRRUsM/8AAAMDoMECG0kaffOu2U19\n",
              "WG7D235BLXt8s2kJnx1/6D/LPhhJTGg30yUbyjsVGSTKmpMIPh8y/V8NR0R1NJ3SSYSUurmbU7tE\n",
              "C4GnAfnvT1T6Q0ViV+IvCIAHVAAAADYBn/h0Qr8AAAa/913cJO+XaOQlEsRRhLlpx9RPqecla9J5\n",
              "ZftD6YNOtHZE1x2B7dg6a86AccEAAABWAZ/6akK/AAAGwdDMJHLt40cP/pCL2eKNE9APOrg4Q11+\n",
              "qc2JI6kzE5Ed/+oEcqN32wOYTUvcljtcvOxSz9abXmNF9wRRi7n4kS9GtROtOOGoIm4ADGgAAACm\n",
              "QZv/SahBbJlMCH///qmWAAADAhCrvDJ0AOAkmMGhBpH9+eSY4xOuDRKsD58713KYq2LxWU38o9Zi\n",
              "igjDLLD4bshhO/XRyHN3XG6s7LA7/UY4CF57LKpS7NYiCL+9PN5l0H7eop7qeK7HsuiLmDmicC9g\n",
              "PDgKsPRieIgGimSsCR0doHHapIS+gJXvF54izRhDdSWNsvZWl2pJLJbCXNm8p8miKAkoQQAAAF5B\n",
              "nh1FFSwz/wAAAwOgwQIbcEnteniZNjl8zRYsswHYbRd4zLWcjjK5FI0SXjUsH/6aBRgP/pz62Zn2\n",
              "AKAC4oGwQBIaIfLZ7IVtXPRKDg3tFs9kMahYaVutRs+wABvRAAAAKAGePHRCvwAABr/3Xebn08CJ\n",
              "gI7/7N6R/1ntKhvlUr3QRcMvNOxgGrAAAABPAZ4+akK/AAAGwdDMKCrdxkysAA2hSdOHEh7XZVvp\n",
              "tARuJ1eb7/PeL42uTPke32sFwGVKD57R3aU4/UjguOcDLV6CJUciqmR+pPprgbAJuAAAAIZBmiNJ\n",
              "qEFsmUwIf//+qZYAAAMCEGL+f3wAlXe4luSyZ069QjQxnsrOxnqe1IlShRYCQo3QOEUJRIVO8788\n",
              "btOhMfA3JSEtIRRGH/6Ks1MFDrvZf4f2YWrbJoodKFW/HX3dF+jNm0Efe6IeqBY1cm1P/oAgbWDb\n",
              "xE3FZggSfz7hk4unvCxEwwAAAE5BnkFFFSwz/wAAAwOgwQIbcRqRNFwwVEAakgAUMpUG69p00Cgm\n",
              "Qyp3nfditPeyq7ucsANsNEUJ/23wvspTflQv5mlTToZ2IuI2uuAArYAAAAAzAZ5gdEK/AAAGv/dd\n",
              "5oL4IG5ZkKGujwglqWI2OqDvtuBfnjh3gUY9+t6IQ7av5yHm2AZVAAAATQGeYmpCvwAABsHQzChK\n",
              "aKhWGKMhB25WWQmuxIaORFi/CQcUU2zGGfGQ/rr5q99MJjmsetKMciIDt9fwAZoShoIJQprd9dIl\n",
              "3UwXmgOOAAAAZkGaZ0moQWyZTAh///6plgAAAwIgxPcvPAEAhWwrP8m9/A1jsB0R+KRk6mfRaap/\n",
              "fyLd/BHRRYzK7fruhOzBVTmcZFRyU3wTUIEmZhm2jO7RnCFPbMa/nvj8SsJDok6JmijkmyrHWQAA\n",
              "AH1BnoVFFSwz/wAAAwOgwQIbmWshSAhUowJAhTK/KkYNW1azC+0use7MKkxxKw+Fzc9kvy6iWa0N\n",
              "jBNyAGjejKdROPB2t+z3h/ndzxZ2vA1j8/4HsGYsfLg6qchytfvxn4j3kzcQe4EROiCB+oMPrrZy\n",
              "EBxDXlzcXIE/wABJwQAAADoBnqR0Qr8AAAa/913u59PxEtIRknc0Xen0bPJnDfQCALJgN5RUBQAc\n",
              "qQqHMmIU/Q7JiS0iTakD6Ag5AAAASgGepmpCvwAABsHQzCz+4Z4pj65RSXk5qnGqyGgL7WFMkk0A\n",
              "JLiMuIrzoN9DfY+aR9Mq0BqOOhlTf69Og4VwawjCxcE0NZi8QChhAAAAg0Gaq0moQWyZTAh///6p\n",
              "lgAAAwIgYzUQ3oALpg0leIU06glsQe/C4thZO6aWTe/0bodIfwwQjvnbTlEhPBkdhQNa6boJLilV\n",
              "37ObTn2SsQqDwgyoU15A+6lyL0cE6ee2wy4aNOgoWJXQkvKedyNI+nN9zjFZqjUCrzolFLCDeOYe\n",
              "E2SAAAAAYkGeyUUVLDP/AAADA6DBAhuXXty0Q32VV2I39SJtGROfQ/AB+UZEhGmuglVVfmEAL+TF\n",
              "HUjFDFWCabGH9vv9kyPXawOFT3E5jAg/N+Ub+lFWvYWie/cq6tcUGDq+zYWIACbgAAAATgGe6HRC\n",
              "vwAABr/3Xe4BcxIMmr0VuQWjqAEqz3/KXJc6E5XzQEzKQlHDeDDQPYrTEDg78UY1SyF0lA2iTRoq\n",
              "diDMWb+NA+Ip7Iv0KUgf4QAAAEMBnupqQr8AAAbB0MwtOmdqAVQF+4FSJeib77yNqrZAdWK1EQH7\n",
              "vHuBk23L4Usnj3tzHHLuJwrmueXNViEMcSbLi8EvAAAAsEGa70moQWyZTAh///6plgAAAwIy6E+u\n",
              "/yQ+ItxS/3XMKUjZYAPzZ6ilNN+aT4qbUa5MgiT/e512pp8zhJNrkiIC6k7/8WyQedJohpa5CJhL\n",
              "vhLLq/+8caH+gng5cZ/wHQllq7q0t1c9QH3qexVMNPc/+MXSvOHQbc/yCGBVxFmDkM8e9zbF458f\n",
              "R/R01OjNGCovhjKNdS+VTQj5c5/LxGpa42PMyhKOIzoxsc70QyBSAAAAXEGfDUUVLDP/AAADA6DB\n",
              "Ahu0XenC5NKCqyX8rH3XYdcjQ2/H3aR1lXXTySTIkMhrVx8AC2CROZh+rt5VlIMdIugcyTH/1+ep\n",
              "4n/Ow81RrK4UK+MzOWaoHAjgAOuBAAAAOAGfLHRCvwAABr/3Xfboplu1okjrfsDztbAgcDXmYeHi\n",
              "V+XhPVHZPIw2MbYePAAc4/kLfwzAAAu5AAAASwGfLmpCvwAABsHQzDIgaE/pJJlVGADjP48snNoe\n",
              "J7iWgdZpKHsZACJoj8VP2r94EhGWgkI8taByY0D8NGXA8gm2CX9jR81CD+wCzwAAAKhBmzJJqEFs\n",
              "mUwIf//+qZYAAAMCMyR7AxcaAC2TNcnzg2aKFw2z+RBwEmTQEFZ2VlsC0XUFyB0f4emViMHx6OlV\n",
              "PFXrpNOn4nrFGGj+LPUze+9vWgS10GicdLvfqGl24DR0tHmezvZ2RkFJmrEJv/VzDHFDigOJxtXs\n",
              "3S2HZ2MBDVrtqZ4NBio/gdBGuQPg89Tx6VlNCTxOIFm465/3Hmna3w7c+bF/f+8AAABCQZ9QRRUs\n",
              "L/8AAAT7In356iNwQvf1CG2OXliFxANRUY8z8Ro4qgtdiwEcyOSwkgMltBIMj5Gem/+N8xQSBTRA\n",
              "AEnAAAAAUQGfcWpCvwAABsHQzDFSuSYL/snZ8L3eb0ALGikG9cijFBorhr3Wd18UG77WVQH4G+lJ\n",
              "T+lcqzw7uN+IsQyql9i/dLBrBLL5zZBplJyrlwDAgQAAAKFBm3ZJqEFsmUwIf//+qZYAAAMCQT9V\n",
              "FUwA46vSYizP/HYytuT3+9Wf1au7uVPLVobNMTDAR3aXDDqPPjqbLOZ2U+XJXpPwRyC4LEglfBHH\n",
              "hbJXiyalVPliXiBbf4Tdgrm9d5z16b+R2zcFvMXXExSKo1pKmGZsDSWXPxvpK8akybt2rX1afOBl\n",
              "HRbK5PgBe0ow2KOpu5/4Mgo/JSa71HCu+AAAAEFBn5RFFSwz/wAAAwOgwQIb+mJb2rqjCG/ZLhXV\n",
              "KrFm6Ab8FuNtoaSJ7DLu5jReAJyMfT3b7/msuXJ3BKpvgAADbgAAAE4Bn7N0Qr8AAAa/9132gxGy\n",
              "agBbgABAZud7jLxXAX9hb/UeX1WOLgjde2Am64Z9RaIK3lX9401Hpqr5uaBToKNyri91qsSSfreR\n",
              "ml0ABW0AAABWAZ+1akK/AAAGwdDMN+PQYaqFOvnUeAN8kGsGuESy4AC2to+pTndkpgyWTlqM1hvV\n",
              "jaZMDsGLbpFNCiueONT3XIUhiRF01kBT113ID+C4TYz0/KWgBLwAAACxQZu6SahBbJlMCHf//qmW\n",
              "AAADAkIJQEqrvgAG6B8zezN6TpWojfs5uAC/ZtruGL0NzOu5B7jiPjrIwxBoLniBAMoYRUk4Jhjo\n",
              "r7vp3DtbgQUcp+93sg7O8/WwGeSckxB1pjL6poI5HUO48Jjc8wZQLeAFSdZ2trV5R9SbVPnT4adY\n",
              "RYEvJFJIkPEIBr93ZpXyAHDMHViN16lJfIH9UcGCGoSqq3YBbCcmkW+31WZMrLrVAAAAVEGf2EUV\n",
              "LDP/AAADA6DBAhv6BsUBzBgPaMyKdHdn/UM6QAzlS/kxay04psxNv3yIAAC1x/6JvsFja+MVoSxA\n",
              "hZUQr/4admSmoytHLhxu8TnUawAD0wAAAE0Bn/d0Qr8AAAa/914AImF3rbGxO0wAWwqBo60ysi7e\n",
              "7pjh29N/MGRcBO+Gw/rM/ypZoPq4Fymn+c3bTUXkl+UTV0ngD1SjpBmkgABlwAAAAFEBn/lqQr8A\n",
              "AAbB0Mw4LfdR8dt56YTJ08+L3oUY1cfomcHGGUcMSSZ03Lxg7qB8T+gbyADk8+VZNqKZboLhrjAF\n",
              "ZG+VL+JrF/+C3EGiDInQAs8AAADhQZv+SahBbJlMCHf//qmWAAADAlBRIMaQBHDs9vCSw6EKPerv\n",
              "IfFV3m8WxRa7bTGz8mHPeeaTDu0sNfEcBh4PDtbgtf3Vbir4vyZZL6k/iby/G53efmhcJ00ybxon\n",
              "N7dwjetaoUKXIs6mfRCBfatw4P8tzD9kIAtMKpm50qzRaPp5gW33GmT5bMjHHmkFk9RzEplCnHCt\n",
              "UPx7v92Ldgd0tBB1tt4dcBRJnQUNa8kIxPfeJQEVKLGDlMIKUuwS0ys3z3Ti3eMaZ005HUvRHUZE\n",
              "E7WA4bxtsXGVJK0MFWsXF5lgAAAARkGeHEUVLDP/AAADA6DBAhwzATG2UEpZM2UV2sQTiJv8zGSL\n",
              "5rdQWnZstr3aLIC8KNpFsCnbSOObl0LGQOkPgrULE5eACgkAAABCAZ47dEK/AAAGv/dd/zEqqDOu\n",
              "bJ2i2JSB6z/dFcr7g/av57tCMYqHqeEFAVKC5gAE4hVHd/4H2hEC0hjxuv2yAEXBAAAATQGePWpC\n",
              "vwAABsHQzD4t90u23sES9DOxwTcAAutJ933+o4j4JxcmLYzdeqPJk0FvBFhCeu0hQozvKUK06gQ6\n",
              "4pWDCVXmJuokLlWDAAV8AAAA0kGaIkmoQWyZTAhn//6eEAAAEeTFfEcMvOAKvF0yKxf4sUYtOiJs\n",
              "wjD1ebIz7akfXamtVyIWJtrzVTYTF5SQrbCKvQ3Hxg/nYpVlHf1W/KrqrOPGyc5/1beH4vOng0Ii\n",
              "aORZoKQSYpaIy7kfCAt1Fj8CosKV2jDJutewyuRHpf6eaBmTGpR0Tl62PH5u0Kqwxy4J1PVhtMsx\n",
              "kc12wew9kftWVeuEiiY4864ZnIYMhsdJmsxZxReyRqxUdYs+wDwJnqXsn/TNwuIBSaYQEZuvziDD\n",
              "PwAAAEVBnkBFFSwz/wAAAwOgwQIcaSPzg9f9LEABt0KjXURkGBSXofx0XAkcL0iggtz2EOnjK2AW\n",
              "Mg9EgTeWudMQgByg3YoAXEEAAABIAZ5/dEK/AAAGv/deCecxIx5c+I8fefwwTg3FP+vnLyPTriUa\n",
              "AFrQSTZs67C6TiEhqHoQjk3vRt+qb7OisNUJxK7k+UCvAAQMAAAASgGeYWpCvwAABsHQzERqYF59\n",
              "K+3uzhTvlIAFiDIDHHUF6M/uN9x3clkqi4/4d+V/TyowWX+1QLTulX8B3FurEJV9RxAhOszjABlR\n",
              "AAAAgUGaZkmoQWyZTAhn//6eEAAAEk2+ApiuE93mOjALlzKRoNJVhRG947RD8IdZvAatdV2kZX70\n",
              "8wEGc+hdNrLLU5KT/uSkpZCLOqjo/z8tdmp/+VZi1jIaVWg5073bMY4UB+94glFdtzAfkjBZOdCy\n",
              "fHiGSCs54Xb59n46AE5IUGH9DAAAAEJBnoRFFSwz/wAAAwOgwQIcZdv+Co/2lKjtACU7mTfAKLU8\n",
              "S7rvJ5HsDB3D+iQ2mv4IHOGKA/C7tY7h0XCQy1oADFkAAABDAZ6jdEK/AAAGv/deFlOKWtt06mby\n",
              "9JtZYLtVdOdSjDN/Jc3N0BhZZ4n8TjM+5TQrbABbCnKDS40K+t+sYRuZaoACPwAAAGMBnqVqQr8A\n",
              "AAbB0MxA123Kl7x9Wfx3zlxWAAbNDMs00fUujh5cBTOxkycL/BIV8mfPap0bsGx7lNJM1NQnaWdf\n",
              "Da4t1A0YwsM/CVvUUeVzvlD3kScn/Hs8GXj0HQ2Sn4QAHpEAAACAQZqqSahBbJlMCF///oywAAAT\n",
              "AGlOnQCkiUvwz2XOu/7OoTDcdCMwAFyI/pfSk4TbtDI5vlH0BrdgRPht0sRSUeTL484rHaxiP+YS\n",
              "DNjT1cIDlk5JJTX/qSm7i2iy5q/pY6IvVMDkJsgdxSE+Mkd0s/ZJ4vS8Pf7xTN0tpBkJkG0AAABJ\n",
              "QZ7IRRUsM/8AAAMDoMECHKR7mSFqMIos/stIXzX8NtO7xAfm+P6i3jj1ZOAVbtuS1Ff7OuROMCmN\n",
              "j8m55H+wrU41mLaMpAA2YAAAAFYBnud0Qr8AAAa/914VSNAWEXwXBABoABdSnYKSDjkj4gqim9v4\n",
              "961opRx26p6LEuOqYOKcpESJy/INoVnVBkLdq3Cb4tynkQg9S1kIG0R6Eo43XWATsAAAAE4Bnulq\n",
              "Qr8AAAbB0MxK6cx0CBIqvnS7UQaa+/fEALcAAL5cSftHumVRRHSbhIuBFLsFIpSuLClas1Ppr7Qx\n",
              "mycnfHWzZ0aQnxs0RWYAxYEAAABWQZruSahBbJlMCF///oywAAATBRXeK3ipAZF8+KFmHNH7u2GL\n",
              "lvMqCknD0lt9dLdk4KjTD0al9HlZ9TB0w+mvyVs/D7UKwic+Pg4mI24DeFBVex6Uge8AAAA3QZ8M\n",
              "RRUsM/8AAAMDoMECHKCak+KFiBy778Bts0h46aNf6XyA6A0DeQzsON7JHOV6TNeAgAAb0AAAAFMB\n",
              "nyt0Qr8AAAa/914hVQw2ntA6bVd/6k16HpADioM0JsPh7P74tdLNRxM8Q1eqtygkOn5IxcRWmPFP\n",
              "7vo6dV/gku+bRXWgUf17PU1okdVhOQAoIQAAAE0Bny1qQr8AAAbB0MxJ7Hp0Jrzn2alACWlJ5NLS\n",
              "/gBN5aEI6hl7vmp2WReUQMNXCcK17pNIIS1J8yszH2YX31l96SBc55ZM56P7XPACLwAAAFdBmzBJ\n",
              "qEFsmUwUTDP//p4QAAATUPpUNCvOF603iAK5nZH52mtv3l8ClWPHPvpFv3ppzDOfffiOsBejaqVj\n",
              "rbSSUkbTfIK7t1IfBidYNe+AiqUp4CA5jWcAAABcAZ9PakK/AAAGwsKfbKxrVx7NgjQwAC2dSdOr\n",
              "stCgacYkWpdNkzFwdXZchUlWsOjqRlgkJ6+MaJFvSSCbseABy8THUF6BvDjD9kwUbD9NOt1Qc3sz\n",
              "2tcqtUAAAl4AAABcQZtUSeEKUmUwIZ/+nhAAABNUP8pxW3L/yhhmY7Ca6x7ZBpdnGLMrzWqAGjyi\n",
              "yjYlYPQGVlawssLjceqPhQrdPgIMJQ1aOY35lyDa4lyuWl6n1s+DjMawUgEB95gAAABbQZ9yRTRM\n",
              "M/8AAAMDoIz9vHSW4AOu+xKdyr1CeNwCKzm33zdBdeJCg8efh5GCRN5VuTeG7B8dCrlj2He2UoDw\n",
              "ijlgAtusrw07bo/gtvJQR1RG2EyL3zKiqoACLwAAAHIBn5F0Qr8AAAa/914sfk0ryzUA+DG8YuyA\n",
              "ALE1I0pT5qEh9kjOLNS8Vu9zW47eKFNVOEmW+9Z+93yhlOu23pgVkwXDViWBBJr/f+Achg6WoZU5\n",
              "lxBhtbPHVeE202T6O4+kF1wilG54mEcxWVkAWSCABZwAAABIAZ+TakK/AAAGwdDMUJSKr/IEdLLa\n",
              "T2m22971krVNdwkIADO0BcJuhIhp2BZDCmy5z2x5xfdo6tP9raClXUc8ONw5UBODAgFbAAAAQ0Gb\n",
              "mEmoQWiZTAhX//44QAAASz0/im4y3SzYjE4u1l7maUOF2VerwwmYe3U/0uMDCzyQgo7I1+x9HmB9\n",
              "IWREIFewqj0AAABEQZ+2RREsM/8AAAMDoMECHN861tdACU9yIP17GiYVjvFqoG+lonhNmxGP65JT\n",
              "q6FOn5jH4WnjfB2lF1IYyr7mtSAABXwAAABJAZ/VdEK/AAAGv/deLOeBvaplcIoDXkALGfwHQm5W\n",
              "NMyyVZktnxucRGvuvy6YSKEofTwVIQ9u8iKdT2Y7n2uiq/6jUceVfyAKCQAAAEcBn9dqQr8AAAbB\n",
              "0MxSCkUW+w0NSh77TUD39t5gV2m0pbhd2gBH8VR5AeVNBgi8HfWMKLDCCgdGHSPfq47Vx68gE9I/\n",
              "vYAScQAAAE9Bm9lJqEFsmUwIV//+OEAAAEs87AeAAoAtbvuH1m2FiejD4uV/TjESS930LtBcUGdS\n",
              "6YiR7c/iplNyXu32bBUijcr7mtpO6pddeeCG0e2/AAAL3G1vb3YAAABsbXZoZAAAAAAAAAAAAAAA\n",
              "AAAAA+gAACRUAAEAAAEAAAAAAAAAAAAAAAABAAAAAAAAAAAAAAAAAAAAAQAAAAAAAAAAAAAAAAAA\n",
              "QAAAAAAAAAAAAAAAAAAAAAAAAAAAAAAAAAAAAAAAAAIAAAsGdHJhawAAAFx0a2hkAAAAAwAAAAAA\n",
              "AAAAAAAAAQAAAAAAACRUAAAAAAAAAAAAAAAAAAAAAAABAAAAAAAAAAAAAAAAAAAAAQAAAAAAAAAA\n",
              "AAAAAAAAQAAAAAH0AAAB9AAAAAAAJGVkdHMAAAAcZWxzdAAAAAAAAAABAAAkVAAABAAAAQAAAAAK\n",
              "fm1kaWEAAAAgbWRoZAAAAAAAAAAAAAAAAAAAKAAAAXQAVcQAAAAAAC1oZGxyAAAAAAAAAAB2aWRl\n",
              "AAAAAAAAAAAAAAAAVmlkZW9IYW5kbGVyAAAACiltaW5mAAAAFHZtaGQAAAABAAAAAAAAAAAAAAAk\n",
              "ZGluZgAAABxkcmVmAAAAAAAAAAEAAAAMdXJsIAAAAAEAAAnpc3RibAAAALlzdHNkAAAAAAAAAAEA\n",
              "AACpYXZjMQAAAAAAAAABAAAAAAAAAAAAAAAAAAAAAAH0AfQASAAAAEgAAAAAAAAAAQAAAAAAAAAA\n",
              "AAAAAAAAAAAAAAAAAAAAAAAAAAAAAAAAABj//wAAADdhdmNDAWQAHv/hABpnZAAerNlAgBB554QA\n",
              "AAMABAAAAwCgPFi2WAEABmjr48siwP34+AAAAAAcdXVpZGtoQPJfJE/FujmlG88DI/MAAAAAAAAA\n",
              "GHN0dHMAAAAAAAAAAQAAALoAAAIAAAAAFHN0c3MAAAAAAAAAAQAAAAEAAAXQY3R0cwAAAAAAAAC4\n",
              "AAAAAQAABAAAAAABAAAKAAAAAAEAAAQAAAAAAQAAAAAAAAABAAACAAAAAAEAAAoAAAAAAQAABAAA\n",
              "AAABAAAAAAAAAAEAAAIAAAAAAQAACAAAAAACAAACAAAAAAEAAAoAAAAAAQAABAAAAAABAAAAAAAA\n",
              "AAEAAAIAAAAAAQAACgAAAAABAAAEAAAAAAEAAAAAAAAAAQAAAgAAAAABAAAKAAAAAAEAAAQAAAAA\n",
              "AQAAAAAAAAABAAACAAAAAAEAAAoAAAAAAQAABAAAAAABAAAAAAAAAAEAAAIAAAAAAQAACgAAAAAB\n",
              "AAAEAAAAAAEAAAAAAAAAAQAAAgAAAAABAAAKAAAAAAEAAAQAAAAAAQAAAAAAAAABAAACAAAAAAEA\n",
              "AAoAAAAAAQAABAAAAAABAAAAAAAAAAEAAAIAAAAAAQAACgAAAAABAAAEAAAAAAEAAAAAAAAAAQAA\n",
              "AgAAAAABAAAKAAAAAAEAAAQAAAAAAQAAAAAAAAABAAACAAAAAAEAAAoAAAAAAQAABAAAAAABAAAA\n",
              "AAAAAAEAAAIAAAAAAQAACgAAAAABAAAEAAAAAAEAAAAAAAAAAQAAAgAAAAABAAAKAAAAAAEAAAQA\n",
              "AAAAAQAAAAAAAAABAAACAAAAAAEAAAoAAAAAAQAABAAAAAABAAAAAAAAAAEAAAIAAAAAAQAACgAA\n",
              "AAABAAAEAAAAAAEAAAAAAAAAAQAAAgAAAAABAAAKAAAAAAEAAAQAAAAAAQAAAAAAAAABAAACAAAA\n",
              "AAEAAAoAAAAAAQAABAAAAAABAAAAAAAAAAEAAAIAAAAAAQAACgAAAAABAAAEAAAAAAEAAAAAAAAA\n",
              "AQAAAgAAAAABAAAKAAAAAAEAAAQAAAAAAQAAAAAAAAABAAACAAAAAAEAAAoAAAAAAQAABAAAAAAB\n",
              "AAAAAAAAAAEAAAIAAAAAAQAACgAAAAABAAAEAAAAAAEAAAAAAAAAAQAAAgAAAAABAAAKAAAAAAEA\n",
              "AAQAAAAAAQAAAAAAAAABAAACAAAAAAEAAAoAAAAAAQAABAAAAAABAAAAAAAAAAEAAAIAAAAAAQAA\n",
              "CgAAAAABAAAEAAAAAAEAAAAAAAAAAQAAAgAAAAABAAAKAAAAAAEAAAQAAAAAAQAAAAAAAAABAAAC\n",
              "AAAAAAEAAAoAAAAAAQAABAAAAAABAAAAAAAAAAEAAAIAAAAAAQAACgAAAAABAAAEAAAAAAEAAAAA\n",
              "AAAAAQAAAgAAAAABAAAKAAAAAAEAAAQAAAAAAQAAAAAAAAABAAACAAAAAAEAAAoAAAAAAQAABAAA\n",
              "AAABAAAAAAAAAAEAAAIAAAAAAQAACgAAAAABAAAEAAAAAAEAAAAAAAAAAQAAAgAAAAABAAAKAAAA\n",
              "AAEAAAQAAAAAAQAAAAAAAAABAAACAAAAAAEAAAoAAAAAAQAABAAAAAABAAAAAAAAAAEAAAIAAAAA\n",
              "AQAACgAAAAABAAAEAAAAAAEAAAAAAAAAAQAAAgAAAAABAAAKAAAAAAEAAAQAAAAAAQAAAAAAAAAB\n",
              "AAACAAAAAAEAAAgAAAAAAgAAAgAAAAABAAAKAAAAAAEAAAQAAAAAAQAAAAAAAAABAAACAAAAAAEA\n",
              "AAoAAAAAAQAABAAAAAABAAAAAAAAAAEAAAIAAAAAAQAACgAAAAABAAAEAAAAAAEAAAAAAAAAAQAA\n",
              "AgAAAAABAAAKAAAAAAEAAAQAAAAAAQAAAAAAAAABAAACAAAAAAEAAAoAAAAAAQAABAAAAAABAAAA\n",
              "AAAAAAEAAAIAAAAAAQAACgAAAAABAAAEAAAAAAEAAAAAAAAAAQAAAgAAAAABAAAKAAAAAAEAAAQA\n",
              "AAAAAQAAAAAAAAABAAACAAAAAAEAAAYAAAAAAQAAAgAAAAABAAAKAAAAAAEAAAQAAAAAAQAAAAAA\n",
              "AAABAAACAAAAAAEAAAoAAAAAAQAABAAAAAABAAAAAAAAAAEAAAIAAAAAAQAABAAAAAAcc3RzYwAA\n",
              "AAAAAAABAAAAAQAAALoAAAABAAAC/HN0c3oAAAAAAAAAAAAAALoAAASBAAAAzwAAAEIAAAAgAAAA\n",
              "JQAAAHEAAABJAAAAJAAAABwAAADeAAAAPAAAAC8AAADYAAAAKwAAABsAAAA7AAAArAAAADoAAAAg\n",
              "AAAAQgAAANAAAABnAAAAJAAAADIAAADAAAAARwAAADMAAAAsAAAAjgAAAEUAAAA4AAAAIAAAAJ8A\n",
              "AABZAAAARQAAACIAAAB6AAAAXgAAAEAAAAAsAAAAPwAAAFAAAAAwAAAALwAAAJIAAAB6AAAAOwAA\n",
              "ADUAAACQAAAAXwAAAEQAAAA6AAAA0AAAAFYAAAA0AAAAPQAAALMAAABeAAAAMQAAAEUAAACPAAAA\n",
              "OAAAAC0AAAAxAAAAlAAAAGUAAAAtAAAARwAAAJwAAABOAAAATAAAADsAAADCAAAAUQAAADMAAAA+\n",
              "AAAAngAAAIoAAABGAAAAXAAAANcAAABOAAAALgAAAEkAAACMAAAAVAAAAEUAAAAwAAAAdAAAAGMA\n",
              "AABIAAAARwAAAIEAAABdAAAANQAAAEUAAAB3AAAAYQAAAFsAAAAzAAAAfwAAAGsAAABgAAAAQAAA\n",
              "AJsAAABNAAAAPwAAADUAAADbAAAAXAAAAD8AAABNAAAAkgAAAFMAAAA1AAAAQAAAALEAAABcAAAA\n",
              "RAAAAEwAAACqAAAAaAAAADoAAABaAAAAqgAAAGIAAAAsAAAAUwAAAIoAAABSAAAANwAAAFEAAABq\n",
              "AAAAgQAAAD4AAABOAAAAhwAAAGYAAABSAAAARwAAALQAAABgAAAAPAAAAE8AAACsAAAARgAAAFUA\n",
              "AAClAAAARQAAAFIAAABaAAAAtQAAAFgAAABRAAAAVQAAAOUAAABKAAAARgAAAFEAAADWAAAASQAA\n",
              "AEwAAABOAAAAhQAAAEYAAABHAAAAZwAAAIQAAABNAAAAWgAAAFIAAABaAAAAOwAAAFcAAABRAAAA\n",
              "WwAAAGAAAABgAAAAXwAAAHYAAABMAAAARwAAAEgAAABNAAAASwAAAFMAAAAUc3RjbwAAAAAAAAAB\n",
              "AAAAMAAAAGJ1ZHRhAAAAWm1ldGEAAAAAAAAAIWhkbHIAAAAAAAAAAG1kaXJhcHBsAAAAAAAAAAAA\n",
              "AAAALWlsc3QAAAAlqXRvbwAAAB1kYXRhAAAAAQAAAABMYXZmNTguNzYuMTAw\n",
              "\">\n",
              "  Your browser does not support the video tag.\n",
              "</video>"
            ]
          },
          "metadata": {},
          "execution_count": 26
        }
      ],
      "source": [
        "test_agent(env, policy, episodes=1)"
      ]
    },
    {
      "cell_type": "markdown",
      "metadata": {
        "id": "KK-lKC9RmGO_"
      },
      "source": [
        "## Resources"
      ]
    },
    {
      "cell_type": "markdown",
      "metadata": {
        "id": "5y5r_670mGO_"
      },
      "source": [
        "[[1] Playing Atari with Deep Reinforcement Learning](https://www.cs.toronto.edu/~vmnih/docs/dqn.pdf)"
      ]
    }
  ],
  "metadata": {
    "kernelspec": {
      "display_name": "Python 3",
      "language": "python",
      "name": "python3"
    },
    "language_info": {
      "codemirror_mode": {
        "name": "ipython",
        "version": 3
      },
      "file_extension": ".py",
      "mimetype": "text/x-python",
      "name": "python",
      "nbconvert_exporter": "python",
      "pygments_lexer": "ipython3",
      "version": "3.8.5"
    },
    "colab": {
      "provenance": []
    }
  },
  "nbformat": 4,
  "nbformat_minor": 0
}